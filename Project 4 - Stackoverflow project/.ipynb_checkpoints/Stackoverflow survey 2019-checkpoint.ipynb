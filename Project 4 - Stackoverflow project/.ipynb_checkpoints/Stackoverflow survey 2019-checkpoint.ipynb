{
 "cells": [
  {
   "cell_type": "markdown",
   "metadata": {},
   "source": [
    "# Stack Overflow Survey Analysis "
   ]
  },
  {
   "cell_type": "markdown",
   "metadata": {},
   "source": [
    "Every year Stack Overflow releases a survey made amongst its users and which covers a large panel of questions - from the salary to the experience, the language used or the use of the website.\n",
    "\n",
    "What interested me was how the people answered about their career satisfaction and how this perception had evolved over the last few years - since 2017 to be precise. SO the question I wanted to answer to were the following :\n",
    "1. what factors have an impact on the career satisfaction. \n",
    "2. how does the career satisfaction evolve with the age\n",
    "3. is the career satisfaction deeply related to the salary"
   ]
  },
  {
   "cell_type": "markdown",
   "metadata": {},
   "source": [
    "### Library importation"
   ]
  },
  {
   "cell_type": "code",
   "execution_count": 1,
   "metadata": {},
   "outputs": [],
   "source": [
    "import pandas as pd\n",
    "import numpy as np\n",
    "import matplotlib.pyplot as plt\n",
    "import seaborn as sb\n",
    "\n",
    "from sklearn.model_selection import train_test_split\n",
    "from sklearn.metrics import f1_score\n",
    "from sklearn.ensemble import BaggingClassifier, RandomForestClassifier, AdaBoostClassifier\n",
    "from sklearn.preprocessing import StandardScaler\n",
    "\n",
    "%matplotlib inline\n",
    "scaler = StandardScaler()"
   ]
  },
  {
   "cell_type": "code",
   "execution_count": 2,
   "metadata": {},
   "outputs": [
    {
     "data": {
      "text/plain": [
       "(88883, 85)"
      ]
     },
     "execution_count": 2,
     "metadata": {},
     "output_type": "execute_result"
    }
   ],
   "source": [
    "df_19 = pd.read_csv(\"developer_survey_2019/survey_results_public.csv\")\n",
    "df_19.shape"
   ]
  },
  {
   "cell_type": "markdown",
   "metadata": {},
   "source": [
    "# Exploratory Analysis"
   ]
  },
  {
   "cell_type": "code",
   "execution_count": 3,
   "metadata": {},
   "outputs": [
    {
     "data": {
      "text/html": [
       "<div>\n",
       "<style scoped>\n",
       "    .dataframe tbody tr th:only-of-type {\n",
       "        vertical-align: middle;\n",
       "    }\n",
       "\n",
       "    .dataframe tbody tr th {\n",
       "        vertical-align: top;\n",
       "    }\n",
       "\n",
       "    .dataframe thead th {\n",
       "        text-align: right;\n",
       "    }\n",
       "</style>\n",
       "<table border=\"1\" class=\"dataframe\">\n",
       "  <thead>\n",
       "    <tr style=\"text-align: right;\">\n",
       "      <th></th>\n",
       "      <th>Respondent</th>\n",
       "      <th>MainBranch</th>\n",
       "      <th>Hobbyist</th>\n",
       "      <th>OpenSourcer</th>\n",
       "      <th>OpenSource</th>\n",
       "      <th>Employment</th>\n",
       "      <th>Country</th>\n",
       "      <th>Student</th>\n",
       "      <th>EdLevel</th>\n",
       "      <th>UndergradMajor</th>\n",
       "      <th>...</th>\n",
       "      <th>WelcomeChange</th>\n",
       "      <th>SONewContent</th>\n",
       "      <th>Age</th>\n",
       "      <th>Gender</th>\n",
       "      <th>Trans</th>\n",
       "      <th>Sexuality</th>\n",
       "      <th>Ethnicity</th>\n",
       "      <th>Dependents</th>\n",
       "      <th>SurveyLength</th>\n",
       "      <th>SurveyEase</th>\n",
       "    </tr>\n",
       "  </thead>\n",
       "  <tbody>\n",
       "    <tr>\n",
       "      <th>0</th>\n",
       "      <td>1</td>\n",
       "      <td>I am a student who is learning to code</td>\n",
       "      <td>Yes</td>\n",
       "      <td>Never</td>\n",
       "      <td>The quality of OSS and closed source software ...</td>\n",
       "      <td>Not employed, and not looking for work</td>\n",
       "      <td>United Kingdom</td>\n",
       "      <td>No</td>\n",
       "      <td>Primary/elementary school</td>\n",
       "      <td>NaN</td>\n",
       "      <td>...</td>\n",
       "      <td>Just as welcome now as I felt last year</td>\n",
       "      <td>Tech articles written by other developers;Indu...</td>\n",
       "      <td>14.0</td>\n",
       "      <td>Man</td>\n",
       "      <td>No</td>\n",
       "      <td>Straight / Heterosexual</td>\n",
       "      <td>NaN</td>\n",
       "      <td>No</td>\n",
       "      <td>Appropriate in length</td>\n",
       "      <td>Neither easy nor difficult</td>\n",
       "    </tr>\n",
       "  </tbody>\n",
       "</table>\n",
       "<p>1 rows × 85 columns</p>\n",
       "</div>"
      ],
      "text/plain": [
       "   Respondent                              MainBranch Hobbyist OpenSourcer  \\\n",
       "0           1  I am a student who is learning to code      Yes       Never   \n",
       "\n",
       "                                          OpenSource  \\\n",
       "0  The quality of OSS and closed source software ...   \n",
       "\n",
       "                               Employment         Country Student  \\\n",
       "0  Not employed, and not looking for work  United Kingdom      No   \n",
       "\n",
       "                     EdLevel UndergradMajor  ...  \\\n",
       "0  Primary/elementary school            NaN  ...   \n",
       "\n",
       "                             WelcomeChange  \\\n",
       "0  Just as welcome now as I felt last year   \n",
       "\n",
       "                                        SONewContent   Age Gender Trans  \\\n",
       "0  Tech articles written by other developers;Indu...  14.0    Man    No   \n",
       "\n",
       "                 Sexuality Ethnicity Dependents           SurveyLength  \\\n",
       "0  Straight / Heterosexual       NaN         No  Appropriate in length   \n",
       "\n",
       "                   SurveyEase  \n",
       "0  Neither easy nor difficult  \n",
       "\n",
       "[1 rows x 85 columns]"
      ]
     },
     "execution_count": 3,
     "metadata": {},
     "output_type": "execute_result"
    }
   ],
   "source": [
    "df_19.head(1)"
   ]
  },
  {
   "cell_type": "code",
   "execution_count": 4,
   "metadata": {},
   "outputs": [
    {
     "data": {
      "text/plain": [
       "BlockchainOrg             0.457995\n",
       "CodeRevHrs                0.439825\n",
       "ConvertedComp             0.371950\n",
       "CompTotal                 0.370577\n",
       "MiscTechWorkedWith        0.329613\n",
       "BlockchainIs              0.323099\n",
       "PurchaseHow               0.312489\n",
       "MgrMoney                  0.311938\n",
       "MgrIdiot                  0.311916\n",
       "MgrWant                   0.311094\n",
       "PurchaseWhat              0.302128\n",
       "UnitTests                 0.294938\n",
       "WebFrameDesireNextYear    0.291833\n",
       "CompFreq                  0.288188\n",
       "WorkWeekHrs               0.274293\n",
       "MiscTechDesireNextYear    0.274203\n",
       "WebFrameWorkedWith        0.268454\n",
       "LastInt                   0.244456\n",
       "WorkChallenge             0.233363\n",
       "SOHowMuchTime             0.230697\n",
       "WorkPlan                  0.224666\n",
       "DatabaseDesireNextYear    0.222045\n",
       "SONewContent              0.217398\n",
       "WorkLoc                   0.211829\n",
       "WorkRemote                0.209253\n",
       "CodeRev                   0.208060\n",
       "JobSat                    0.201332\n",
       "FizzBuzz                  0.197327\n",
       "CurrencyDesc              0.196787\n",
       "CurrencySymbol            0.196787\n",
       "dtype: float64"
      ]
     },
     "execution_count": 4,
     "metadata": {},
     "output_type": "execute_result"
    }
   ],
   "source": [
    "#proportion of missing values per question (top 30)\n",
    "(df_19.isnull().sum()/df_19.shape[0]).sort_values(ascending=False).head(30)"
   ]
  },
  {
   "cell_type": "code",
   "execution_count": 5,
   "metadata": {},
   "outputs": [
    {
     "data": {
      "text/plain": [
       "object     79\n",
       "float64     5\n",
       "int64       1\n",
       "dtype: int64"
      ]
     },
     "execution_count": 5,
     "metadata": {},
     "output_type": "execute_result"
    }
   ],
   "source": [
    "#data type\n",
    "df_19.dtypes.value_counts()"
   ]
  },
  {
   "cell_type": "code",
   "execution_count": 6,
   "metadata": {},
   "outputs": [
    {
     "data": {
      "text/plain": [
       "Index(['Respondent', 'CompTotal', 'ConvertedComp', 'WorkWeekHrs', 'CodeRevHrs',\n",
       "       'Age'],\n",
       "      dtype='object')"
      ]
     },
     "execution_count": 6,
     "metadata": {},
     "output_type": "execute_result"
    }
   ],
   "source": [
    "df_19.select_dtypes(exclude=[\"object\"]).columns"
   ]
  },
  {
   "cell_type": "markdown",
   "metadata": {},
   "source": [
    "The Respondent variable is just an identifier and will not help us in modeling so we will drop it in the process. \n",
    "Al the other variables are \"object\" type and have different levels : we will hav to decide wether we want to recode them or to use dummy variables - the later implying increasing the size of our dataset."
   ]
  },
  {
   "cell_type": "code",
   "execution_count": 7,
   "metadata": {},
   "outputs": [
    {
     "data": {
      "text/plain": [
       "count    79210.000000\n",
       "mean        30.336699\n",
       "std          9.178390\n",
       "min          1.000000\n",
       "25%         24.000000\n",
       "50%         29.000000\n",
       "75%         35.000000\n",
       "max         99.000000\n",
       "Name: Age, dtype: float64"
      ]
     },
     "execution_count": 7,
     "metadata": {},
     "output_type": "execute_result"
    }
   ],
   "source": [
    "#age of the population\n",
    "df_19.Age.describe()"
   ]
  },
  {
   "cell_type": "code",
   "execution_count": 8,
   "metadata": {},
   "outputs": [
    {
     "data": {
      "text/plain": [
       "Text(0.5, 1.0, \"Distribution of the population's age\")"
      ]
     },
     "execution_count": 8,
     "metadata": {},
     "output_type": "execute_result"
    },
    {
     "data": {
      "image/png": "[encoded data removed]",
      "text/plain": [
       "<Figure size 432x288 with 1 Axes>"
      ]
     },
     "metadata": {
      "needs_background": "light"
     },
     "output_type": "display_data"
    }
   ],
   "source": [
    "sb.distplot(df_19.Age)\n",
    "plt.title(\"Distribution of the population's age\")"
   ]
  },
  {
   "cell_type": "code",
   "execution_count": 9,
   "metadata": {},
   "outputs": [
    {
     "data": {
      "text/plain": [
       "count    5.582300e+04\n",
       "mean     1.271107e+05\n",
       "std      2.841523e+05\n",
       "min      0.000000e+00\n",
       "25%      2.577750e+04\n",
       "50%      5.728700e+04\n",
       "75%      1.000000e+05\n",
       "max      2.000000e+06\n",
       "Name: ConvertedComp, dtype: float64"
      ]
     },
     "execution_count": 9,
     "metadata": {},
     "output_type": "execute_result"
    }
   ],
   "source": [
    "#origin of the population\n",
    "df_19.ConvertedComp.describe()"
   ]
  },
  {
   "cell_type": "markdown",
   "metadata": {},
   "source": [
    "## Q1. what are the factors relevant for the career satisfaction"
   ]
  },
  {
   "cell_type": "markdown",
   "metadata": {},
   "source": [
    "### Cleaning data"
   ]
  },
  {
   "cell_type": "code",
   "execution_count": 10,
   "metadata": {},
   "outputs": [
    {
     "data": {
      "text/html": [
       "<div>\n",
       "<style scoped>\n",
       "    .dataframe tbody tr th:only-of-type {\n",
       "        vertical-align: middle;\n",
       "    }\n",
       "\n",
       "    .dataframe tbody tr th {\n",
       "        vertical-align: top;\n",
       "    }\n",
       "\n",
       "    .dataframe thead th {\n",
       "        text-align: right;\n",
       "    }\n",
       "</style>\n",
       "<table border=\"1\" class=\"dataframe\">\n",
       "  <thead>\n",
       "    <tr style=\"text-align: right;\">\n",
       "      <th></th>\n",
       "      <th>Respondent</th>\n",
       "      <th>MainBranch</th>\n",
       "      <th>Hobbyist</th>\n",
       "      <th>OpenSourcer</th>\n",
       "      <th>OpenSource</th>\n",
       "      <th>Employment</th>\n",
       "      <th>Country</th>\n",
       "      <th>Student</th>\n",
       "      <th>EdLevel</th>\n",
       "      <th>UndergradMajor</th>\n",
       "      <th>...</th>\n",
       "      <th>WelcomeChange</th>\n",
       "      <th>SONewContent</th>\n",
       "      <th>Age</th>\n",
       "      <th>Gender</th>\n",
       "      <th>Trans</th>\n",
       "      <th>Sexuality</th>\n",
       "      <th>Ethnicity</th>\n",
       "      <th>Dependents</th>\n",
       "      <th>SurveyLength</th>\n",
       "      <th>SurveyEase</th>\n",
       "    </tr>\n",
       "  </thead>\n",
       "  <tbody>\n",
       "    <tr>\n",
       "      <th>0</th>\n",
       "      <td>1</td>\n",
       "      <td>I am a student who is learning to code</td>\n",
       "      <td>Yes</td>\n",
       "      <td>Never</td>\n",
       "      <td>The quality of OSS and closed source software ...</td>\n",
       "      <td>Not employed, and not looking for work</td>\n",
       "      <td>United Kingdom</td>\n",
       "      <td>No</td>\n",
       "      <td>Primary/elementary school</td>\n",
       "      <td>NaN</td>\n",
       "      <td>...</td>\n",
       "      <td>Just as welcome now as I felt last year</td>\n",
       "      <td>Tech articles written by other developers;Indu...</td>\n",
       "      <td>14.0</td>\n",
       "      <td>Man</td>\n",
       "      <td>No</td>\n",
       "      <td>Straight / Heterosexual</td>\n",
       "      <td>NaN</td>\n",
       "      <td>No</td>\n",
       "      <td>Appropriate in length</td>\n",
       "      <td>Neither easy nor difficult</td>\n",
       "    </tr>\n",
       "  </tbody>\n",
       "</table>\n",
       "<p>1 rows × 85 columns</p>\n",
       "</div>"
      ],
      "text/plain": [
       "   Respondent                              MainBranch Hobbyist OpenSourcer  \\\n",
       "0           1  I am a student who is learning to code      Yes       Never   \n",
       "\n",
       "                                          OpenSource  \\\n",
       "0  The quality of OSS and closed source software ...   \n",
       "\n",
       "                               Employment         Country Student  \\\n",
       "0  Not employed, and not looking for work  United Kingdom      No   \n",
       "\n",
       "                     EdLevel UndergradMajor  ...  \\\n",
       "0  Primary/elementary school            NaN  ...   \n",
       "\n",
       "                             WelcomeChange  \\\n",
       "0  Just as welcome now as I felt last year   \n",
       "\n",
       "                                        SONewContent   Age Gender Trans  \\\n",
       "0  Tech articles written by other developers;Indu...  14.0    Man    No   \n",
       "\n",
       "                 Sexuality Ethnicity Dependents           SurveyLength  \\\n",
       "0  Straight / Heterosexual       NaN         No  Appropriate in length   \n",
       "\n",
       "                   SurveyEase  \n",
       "0  Neither easy nor difficult  \n",
       "\n",
       "[1 rows x 85 columns]"
      ]
     },
     "execution_count": 10,
     "metadata": {},
     "output_type": "execute_result"
    }
   ],
   "source": [
    "df_19.head(1)"
   ]
  },
  {
   "cell_type": "code",
   "execution_count": 11,
   "metadata": {},
   "outputs": [
    {
     "data": {
      "text/plain": [
       "(88883, 85)"
      ]
     },
     "execution_count": 11,
     "metadata": {},
     "output_type": "execute_result"
    }
   ],
   "source": [
    "df_19.shape"
   ]
  },
  {
   "cell_type": "markdown",
   "metadata": {},
   "source": [
    "After looking at the questions of the dataset, it realized some - such as the evolution wanted or the interview process - were very unlikely to be correlated with the career satisfaction so I decided to drop them. Furthermore I only kept the rows were the answer to the career satisfaction was given."
   ]
  },
  {
   "cell_type": "code",
   "execution_count": 12,
   "metadata": {},
   "outputs": [],
   "source": [
    "#variables to drop\n",
    "drop_col = [\"OpenSourcer\", \"OpenSource\", \"EduOther\", \"Age1stCode\", \"MgrMoney\", \"MgrWant\", \"LastInt\", \"FizzBuzz\",\n",
    "           \"JobFactors\", \"ResumeUpdate\", \"CurrencySymbol\", \"CurrencyDesc\", \"WorkLoc\", \"PurchaseHow\", \n",
    "           \"LanguageDesireNextYear\", \"DatabaseDesireNextYear\", \"PlatformDesireNextYear\", \"WebFrameDesireNextYear\",\n",
    "           \"MiscTechDesireNextYear\", \"Containers\", \"BlockchainIs\", \"BetterLife\", \"OffOn\", \"SocialMedia\", \n",
    "           \"ScreenName\", \"SOVisit1st\", \"SOVisitFreq\", \"SOVisitTo\", \"SOFindAnswer\", \"SOTimeSaved\", \"SOHowMuchTime\",\n",
    "           \"SOAccount\", \"SOPartFreq\",\"SOJobs\", \"EntTeams\", \"SOComm\", \"WelcomeChange\", \"SONewContent\", \n",
    "           \"SurveyLength\", \"SurveyEase\", \"Respondent\"]"
   ]
  },
  {
   "cell_type": "code",
   "execution_count": 13,
   "metadata": {},
   "outputs": [],
   "source": [
    "def clean_data(df, drop_col=None):\n",
    "    \"\"\"\n",
    "    Function to prepare the data by dropping undesirable columns and filling the missing values\n",
    "    INPUT\n",
    "    df - original dataframe\n",
    "    drop_col - list of columns, default value to None\n",
    "    \n",
    "    OUTPUT\n",
    "    y - target of the model as a dataframe\n",
    "    X - scaled explicative variable as a dataframe\n",
    "    \"\"\" \n",
    "    #keep the observation not missing and rename CareerSat into \"label\"\n",
    "    if \"CareerSat\" in df.columns:\n",
    "        df_return = df[df.loc[:, \"CareerSat\"].notnull()]\n",
    "        df_return = df_return.rename(columns={\"CareerSat\":\"label\"})\n",
    "    else:\n",
    "        df_return = df\n",
    "    \n",
    "    #drop the unnecessary columns\n",
    "    if drop_col != None:\n",
    "        df_return.drop(drop_col, axis=1, inplace=True)\n",
    "    \n",
    "    #missing values in numeric variables : fill with the mean and scale\n",
    "    numVar = df_return.select_dtypes(exclude=[\"object\"]).columns\n",
    "    for var in numVar:\n",
    "        df_return.loc[:, var] = df_return.loc[:, var].fillna(df_return.loc[:, var].mean())\n",
    "    \n",
    "    #categorical variables : recode into numerical variable; dummy variables would create a too big dataset\n",
    "    catVar = df_return.select_dtypes(include=[\"object\"]).columns\n",
    "    for var in catVar:\n",
    "        df_return.loc[:, var] = pd.factorize(df_return[var])[0]\n",
    "    \n",
    "    #distinction between target and features\n",
    "    y = df_return[\"label\"]\n",
    "    X = df_return.drop(\"label\", axis=1)\n",
    "    \n",
    "    #column names\n",
    "    col_names = X.columns.tolist()\n",
    "    \n",
    "    #scale the data but the label\n",
    "    scaler.fit(X)\n",
    "    X = scaler.transform(X)\n",
    "    \n",
    "    return pd.DataFrame(y), pd.DataFrame(X, columns=col_names)"
   ]
  },
  {
   "cell_type": "code",
   "execution_count": 14,
   "metadata": {},
   "outputs": [
    {
     "data": {
      "text/plain": [
       "((72847, 1), (72847, 43), (88883, 85))"
      ]
     },
     "execution_count": 14,
     "metadata": {},
     "output_type": "execute_result"
    }
   ],
   "source": [
    "y, X = clean_data(df_19, drop_col)\n",
    "y.shape, X.shape, df_19.shape"
   ]
  },
  {
   "cell_type": "markdown",
   "metadata": {},
   "source": [
    "### Modeling"
   ]
  },
  {
   "cell_type": "code",
   "execution_count": 15,
   "metadata": {},
   "outputs": [],
   "source": [
    "#split between train and test dataset\n",
    "X_train, X_test, y_train, y_test = train_test_split(X, \n",
    "                                                    y.values.ravel(), \n",
    "                                                    random_state=42)"
   ]
  },
  {
   "cell_type": "code",
   "execution_count": 16,
   "metadata": {},
   "outputs": [],
   "source": [
    "#initialize the different models\n",
    "rf_mod = RandomForestClassifier(n_estimators=200)\n",
    "bag_mod = BaggingClassifier(n_estimators=200)\n",
    "ada_mod = AdaBoostClassifier(n_estimators=300, learning_rate=0.2)"
   ]
  },
  {
   "cell_type": "code",
   "execution_count": 17,
   "metadata": {},
   "outputs": [],
   "source": [
    "#train and evaluate the performance of the model\n",
    "def evaluate_model(model, X_train, y_train, X_test, y_test):\n",
    "    \"\"\"\n",
    "    Function to evaluate the quality of a model with the f1 score for multiclass classification\n",
    "    INPUT\n",
    "    model - model to evaluate\n",
    "    X_train - features of the training dataset\n",
    "    y_train - target of the training dataset\n",
    "    X_test - features of the testing dataset\n",
    "    y_test - target of the testing dataset\n",
    "    \n",
    "    OUTPUT\n",
    "    trained_model - model after training\n",
    "    preds - predictions on the testing set\n",
    "    f1_score - f1_score of the model on the testing set\n",
    "    \"\"\"\n",
    "    #fit the model\n",
    "    model.fit(X_train, y_train)\n",
    "    \n",
    "    #make predictions on the test dataset\n",
    "    preds = model.predict(X_test)\n",
    "    \n",
    "    #calculate the f1 score\n",
    "    model_f1_score = f1_score(y_test, preds, average=\"weighted\")\n",
    "    \n",
    "    return model, preds, model_f1_score"
   ]
  },
  {
   "cell_type": "code",
   "execution_count": 18,
   "metadata": {},
   "outputs": [],
   "source": [
    "rf_mod, rf_preds, rf_f1 = evaluate_model(rf_mod, X_train, y_train, X_test, y_test)\n",
    "bag_mod, bag_preds, bag_f1 = evaluate_model(bag_mod, X_train, y_train, X_test, y_test)\n",
    "ada_mod, ada_preds, ada_f1 = evaluate_model(ada_mod, X_train, y_train, X_test, y_test)"
   ]
  },
  {
   "cell_type": "code",
   "execution_count": 19,
   "metadata": {},
   "outputs": [
    {
     "name": "stdout",
     "output_type": "stream",
     "text": [
      "random forest f1 score : 0.5384111367824279\n",
      "bagging classifier f1 score : 0.5749254577177102\n",
      "adaboost f1 score : 0.5619967538416846\n"
     ]
    }
   ],
   "source": [
    "#performance of our models with the f1 score\n",
    "print(\"random forest f1 score : {}\".format(rf_f1))\n",
    "print(\"bagging classifier f1 score : {}\".format(bag_f1))\n",
    "print(\"adaboost f1 score : {}\".format(ada_f1))"
   ]
  },
  {
   "cell_type": "markdown",
   "metadata": {},
   "source": [
    "The bagging classifier has the best f1 score : we will use this model from now on.  \n",
    "We will now try to improve its score and to make it faster by removing non significant features."
   ]
  },
  {
   "cell_type": "code",
   "execution_count": 20,
   "metadata": {},
   "outputs": [],
   "source": [
    "#feature importance\n",
    "def feature_importance(model):\n",
    "    \"\"\"\n",
    "    Function to get the features importance\n",
    "    INPUT\n",
    "    model - model trained\n",
    "    \n",
    "    OUTPUT\n",
    "    features_importance_df - dataframe of the features and their importance in the model\n",
    "    \"\"\"\n",
    "    features = np.stack([estimator.feature_importances_ for estimator in model.estimators_], axis=0)\n",
    "    features_importance = np.mean(features, axis=0).tolist()\n",
    "\n",
    "    features_name = X_train.columns.values.tolist()\n",
    "\n",
    "    features_importance_df = pd.DataFrame.from_dict({\"name\": features_name, \"importance\":features_importance})\n",
    "    features_importance_df.sort_values(by=\"importance\", ascending=False, inplace=True)\n",
    "    return features_importance_df"
   ]
  },
  {
   "cell_type": "code",
   "execution_count": 21,
   "metadata": {},
   "outputs": [],
   "source": [
    "feature_importance_19 = feature_importance(bag_mod)"
   ]
  },
  {
   "cell_type": "code",
   "execution_count": 22,
   "metadata": {},
   "outputs": [
    {
     "data": {
      "image/png": "[encoded data removed]",
      "text/plain": [
       "<Figure size 1080x360 with 2 Axes>"
      ]
     },
     "metadata": {
      "needs_background": "light"
     },
     "output_type": "display_data"
    }
   ],
   "source": [
    "figure = plt.figure(figsize=(15,5))\n",
    "plt.gcf().subplots_adjust(wspace=0.3)\n",
    "\n",
    "plt.subplot(1, 2, 1)\n",
    "sb.barplot(x=\"name\", y=\"importance\", data=feature_importance_19.head(10), color=\"blue\")\n",
    "plt.xticks(rotation=90)\n",
    "plt.title(\"Top10 most important factors in the career satisfaction\")\n",
    "plt.xlabel(\"Factor\")\n",
    "\n",
    "plt.subplot(1, 2, 2)\n",
    "sb.barplot(x=\"name\", y=\"importance\", data=feature_importance_19.tail(10), color=\"blue\")\n",
    "plt.xticks(rotation=90)\n",
    "plt.title(\"Top10 less important factors in the career satisfaction\")\n",
    "plt.xlabel(\"Factor\");"
   ]
  },
  {
   "cell_type": "markdown",
   "metadata": {},
   "source": [
    "The most important factor in the career satisfaction is the job satisfaction. It seems logical that one should be happier if he is correctly employed than if his work does not suit his desires.  \n",
    "After this factor, there is no huge difference between the difference of the other factors. We can see than the work environment - the tools and the chalenges faced - are important but the difference is tiny.  \n",
    "Still we can see that the age comes as the 10th most important factor - which implies our next question is relevant.  \n",
    "\n",
    "On the other hand, there are quite a number of non significant factors.  \n",
    "We could be surprised by the presence of the employment factor, but if unemployed people did not answer the career satisfaction question or if they are too few in our population then the employment might not be significant.  \n",
    "We can also find the CompTotal factor in this list. While it might be a surprise as well, it si quite understandable given that this salary is given in different currency according to the country. It is probably more relevant to use the ConvertedComp - which appears as the 6th most important factor."
   ]
  },
  {
   "cell_type": "markdown",
   "metadata": {},
   "source": [
    "## Q2. how does evolve the career satisfaction with the age"
   ]
  },
  {
   "cell_type": "code",
   "execution_count": 23,
   "metadata": {},
   "outputs": [
    {
     "data": {
      "text/plain": [
       "(104, 5)"
      ]
     },
     "execution_count": 23,
     "metadata": {},
     "output_type": "execute_result"
    }
   ],
   "source": [
    "df_age = df_19[[\"Age\", \"Respondent\", \"CareerSat\"]]\n",
    "df_age = df_age[df_age.loc[:, \"CareerSat\"].notnull()]\n",
    "\n",
    "df_age = df_age.groupby([\"CareerSat\", \"Age\"]).count().reset_index().rename(columns={\"Respondent\":\"count\"})\n",
    "\n",
    "df_age.Age.drop_duplicates().count(), df_age.CareerSat.drop_duplicates().count()"
   ]
  },
  {
   "cell_type": "markdown",
   "metadata": {},
   "source": [
    "104 levels for the age, 5 for the career satisfaction : this is too much for plotting it so we have to regroup the ages."
   ]
  },
  {
   "cell_type": "code",
   "execution_count": 24,
   "metadata": {},
   "outputs": [],
   "source": [
    "#regroup ages\n",
    "bins = [0, 20, 30, 40, 50, 60, 70, 120]\n",
    "labels = [\"-20\", \"20-30\", \"30-40\", \"40-50\", \"50-60\", \"60-70\", \"70+\"]\n",
    "df_age[\"age_grouped\"] = pd.cut(df_age.Age, bins, labels=labels, include_lowest=True)\n",
    "df_age[\"frequency\"] = df_age.count"
   ]
  },
  {
   "cell_type": "code",
   "execution_count": 25,
   "metadata": {},
   "outputs": [],
   "source": [
    "df_age2 = df_age.groupby([\"age_grouped\", \"CareerSat\"])[\"count\"].count().reset_index()\n",
    "df_age2 = df_age2.pivot(index=\"age_grouped\", columns=\"CareerSat\", values=\"count\").reset_index()\n",
    "\n",
    "#assess the frequency of each group\n",
    "df_age2[\"total\"] = df_age2.sum(axis=1)\n",
    "for col in df_age2.drop([\"total\", \"age_grouped\"], axis=1).columns:\n",
    "    df_age2[col] = df_age2[col] / df_age2[\"total\"]"
   ]
  },
  {
   "cell_type": "code",
   "execution_count": 26,
   "metadata": {},
   "outputs": [
    {
     "data": {
      "image/png": "[encoded data removed]",
      "text/plain": [
       "<Figure size 432x288 with 1 Axes>"
      ]
     },
     "metadata": {
      "needs_background": "light"
     },
     "output_type": "display_data"
    }
   ],
   "source": [
    "df_age2.drop(\"total\", axis=1).set_index(\"age_grouped\").plot(kind=\"bar\", stacked=True, legend=False)\n",
    "plt.legend(loc=\"center left\", bbox_to_anchor=(1.0, 0.5))\n",
    "plt.title(\"Repartition by age and by the career satisfaction\")\n",
    "plt.ylabel(\"Frequency\")\n",
    "plt.xlabel(\"Age\");"
   ]
  },
  {
   "cell_type": "code",
   "execution_count": 27,
   "metadata": {},
   "outputs": [
    {
     "data": {
      "text/plain": [
       "age_grouped\n",
       "-20      49\n",
       "20-30    64\n",
       "30-40    60\n",
       "40-50    52\n",
       "50-60    51\n",
       "60-70    43\n",
       "70+      22\n",
       "Name: count, dtype: int64"
      ]
     },
     "execution_count": 27,
     "metadata": {},
     "output_type": "execute_result"
    }
   ],
   "source": [
    "df_age.groupby(\"age_grouped\")[\"count\"].count()"
   ]
  },
  {
   "cell_type": "markdown",
   "metadata": {},
   "source": [
    "The proportion of very satisfied people decreases slightly with the age until the age of 50 and then it increases until the retirement - where 40% of the population is happy with his career. One reason could be that at the beginning of our career we can see a lot of different subject while the older me get the more stuck we get on our subjects and the less interesting it becomes.  \n",
    "On the other hand, the proportion of dissatisfied people is stable and drops at the retirement because people are still happy to be retired.  \n",
    "The balance is obtained by the small increase of the people who do not have an opinion.  \n",
    "However these observations are to be minded cautiously because of the small number of people who gave their age - so this sample might not correctly represents the whole population."
   ]
  },
  {
   "cell_type": "markdown",
   "metadata": {},
   "source": [
    "## Q3. is the career satisfaction deeply related to the salary\n",
    "\n",
    "To answer this question, we will use the ConvertedComp column - which is the salary converted to USD - in order to be able to compare the situations of workers in countries with different currencies."
   ]
  },
  {
   "cell_type": "code",
   "execution_count": 28,
   "metadata": {},
   "outputs": [],
   "source": [
    "df_salary = df_19[[\"CareerSat\", \"ConvertedComp\"]]\n",
    "\n",
    "#remove missing values\n",
    "df_salary = df_salary[df_salary.ConvertedComp.notnull()]"
   ]
  },
  {
   "cell_type": "code",
   "execution_count": 29,
   "metadata": {},
   "outputs": [
    {
     "data": {
      "image/png": "[encoded data removed]",
      "text/plain": [
       "<Figure size 576x576 with 1 Axes>"
      ]
     },
     "metadata": {
      "needs_background": "light"
     },
     "output_type": "display_data"
    }
   ],
   "source": [
    "figure = plt.figure(figsize=(8,8))\n",
    "sb.boxplot(x=\"CareerSat\", y=\"ConvertedComp\", data=df_salary, showfliers=False)\n",
    "plt.xticks(rotation=90);"
   ]
  },
  {
   "cell_type": "code",
   "execution_count": 30,
   "metadata": {},
   "outputs": [
    {
     "data": {
      "text/plain": [
       "CareerSat\n",
       "Neither satisfied nor dissatisfied     4759\n",
       "Slightly dissatisfied                  5692\n",
       "Slightly satisfied                    19456\n",
       "Very dissatisfied                      2659\n",
       "Very satisfied                        23257\n",
       "Name: ConvertedComp, dtype: int64"
      ]
     },
     "execution_count": 30,
     "metadata": {},
     "output_type": "execute_result"
    }
   ],
   "source": [
    "df_salary.groupby(\"CareerSat\")[\"ConvertedComp\"].count()"
   ]
  },
  {
   "cell_type": "markdown",
   "metadata": {},
   "source": [
    "Satisfied tend to have a bigger compensation than the others. The opposite situation might have been surprising.  \n",
    "It might be interesting to investigate further to see if there is realy a corelation between compensation and satisfaction. For instance, one might consider looking at the compensation weighted by the number of working hours. Another interesting point would be to know of what is made the compensation - whether it is only cash or if there are others advantages such as plane flights reimbursement for instance.  \n",
    "Still one could say money does not make you happy but it helps. Or maybe it is because people are happy that they work better and so have higher compensations."
   ]
  }
 ],
 "metadata": {
  "kernelspec": {
   "display_name": "Python 3",
   "language": "python",
   "name": "python3"
  },
  "language_info": {
   "codemirror_mode": {
    "name": "ipython",
    "version": 3
   },
   "file_extension": ".py",
   "mimetype": "text/x-python",
   "name": "python",
   "nbconvert_exporter": "python",
   "pygments_lexer": "ipython3",
   "version": "3.7.6"
  }
 },
 "nbformat": 4,
 "nbformat_minor": 4
}
